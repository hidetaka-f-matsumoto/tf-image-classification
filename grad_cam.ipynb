{
 "cells": [
  {
   "cell_type": "code",
   "execution_count": null,
   "id": "thrown-plaza",
   "metadata": {},
   "outputs": [],
   "source": [
    "import os\n",
    "import glob\n",
    "import argparse\n",
    "import numpy as np\n",
    "import cv2\n",
    "import tensorflow as tf\n",
    "from tensorflow.keras import models\n",
    "from tensorflow.keras.preprocessing.image import array_to_img, img_to_array, load_img\n"
   ]
  },
  {
   "cell_type": "code",
   "execution_count": null,
   "id": "lonely-business",
   "metadata": {},
   "outputs": [],
   "source": [
    "def grad_cam(input_model, x, size, layer_name):\n",
    "    \"\"\"\n",
    "    Args:\n",
    "        input_model(object): モデルオブジェクト\n",
    "        x(ndarray): 画像\n",
    "        size(width, height): 画像サイズ\n",
    "        layer_name(string): 畳み込み層の名前\n",
    "    Returns:\n",
    "        output_image(ndarray): 元の画像に色付けした画像\n",
    "    \"\"\"\n",
    "\n",
    "    # 画像の前処理\n",
    "    # 読み込む画像が1枚なため、次元を増やしておかないとmode.predictが出来ない\n",
    "    X = np.expand_dims(x, axis=0)\n",
    "    preprocessed_input = X.astype('float32') / 255.0\n",
    "\n",
    "    grad_model = models.Model([input_model.inputs], [input_model.get_layer(layer_name).output, input_model.output])\n",
    "\n",
    "    with tf.GradientTape() as tape:\n",
    "        conv_outputs, predictions = grad_model(preprocessed_input)\n",
    "        class_idx = np.argmax(predictions[0])\n",
    "        loss = predictions[:, class_idx]\n",
    "\n",
    "    # 勾配を計算\n",
    "    output = conv_outputs[0]\n",
    "    grads = tape.gradient(loss, conv_outputs)[0]\n",
    "\n",
    "    gate_f = tf.cast(output > 0, 'float32')\n",
    "    gate_r = tf.cast(grads > 0, 'float32')\n",
    "\n",
    "    guided_grads = gate_f * gate_r * grads\n",
    "\n",
    "    # 重みを平均化して、レイヤーの出力に乗じる\n",
    "    weights = np.mean(guided_grads, axis=(0, 1))\n",
    "    cam = np.dot(output, weights)\n",
    "\n",
    "    # 画像を元画像と同じ大きさにスケーリング\n",
    "    cam = cv2.resize(cam, size, cv2.INTER_LINEAR)\n",
    "    # ReLUの代わり\n",
    "    cam  = np.maximum(cam, 0)\n",
    "    # ヒートマップを計算\n",
    "    heatmap = cam / cam.max()\n",
    "\n",
    "    # モノクロ画像に疑似的に色をつける\n",
    "    jet_cam = cv2.applyColorMap(np.uint8(255.0*heatmap), cv2.COLORMAP_JET)\n",
    "    # RGBに変換\n",
    "    rgb_cam = cv2.cvtColor(jet_cam, cv2.COLOR_BGR2RGB)\n",
    "    # もとの画像に合成\n",
    "    output_image = (np.float32(rgb_cam) + x / 2)\n",
    "\n",
    "    return output_image\n",
    "\n",
    "def exec(model, path, size, layer, show=False, output=None):\n",
    "    src = img_to_array(load_img(path, target_size=size))\n",
    "    if show:\n",
    "        src_img = array_to_img(src)\n",
    "        src_img.show()\n",
    "\n",
    "    cam = grad_cam(model, src, size, layer)\n",
    "    cam_img = array_to_img(cam)\n",
    "    if show:\n",
    "        cam_img.show()\n",
    "    if output:\n",
    "        cam_img.save(output)\n"
   ]
  },
  {
   "cell_type": "code",
   "execution_count": null,
   "id": "assigned-health",
   "metadata": {},
   "outputs": [],
   "source": [
    "model_dir = 'models/hoo'\n",
    "dataset_dir = 'dataset/test'\n",
    "output_dir = 'out/hoo/grad_cam'\n",
    "img_size = (480, 480)\n",
    "layer_name = 'conv2d_3'\n",
    "os.makedirs(output_dir, exist_ok=True)\n",
    "model = models.load_model(model_dir)\n",
    "for path in glob.iglob('{dir}/**/*.jpeg'.format(dir=dataset_dir)):\n",
    "    filename = os.path.basename(path)\n",
    "    out_path = '{dir}/{filename}'.format(dir=output_dir, filename=filename)\n",
    "    print(out_path)\n",
    "    exec(model, path, img_size, layer_name, output=out_path)\n"
   ]
  },
  {
   "cell_type": "code",
   "execution_count": null,
   "id": "champion-material",
   "metadata": {},
   "outputs": [],
   "source": []
  }
 ],
 "metadata": {
  "environment": {
   "name": "tf2-gpu.2-3.mnightly-2021-02-12-debian-10-test",
   "type": "gcloud",
   "uri": "gcr.io/deeplearning-platform-release/tf2-gpu.2-3:mnightly-2021-02-12-debian-10-test"
  },
  "kernelspec": {
   "display_name": "Python 3",
   "language": "python",
   "name": "python3"
  },
  "language_info": {
   "codemirror_mode": {
    "name": "ipython",
    "version": 3
   },
   "file_extension": ".py",
   "mimetype": "text/x-python",
   "name": "python",
   "nbconvert_exporter": "python",
   "pygments_lexer": "ipython3",
   "version": "3.7.9"
  }
 },
 "nbformat": 4,
 "nbformat_minor": 5
}
