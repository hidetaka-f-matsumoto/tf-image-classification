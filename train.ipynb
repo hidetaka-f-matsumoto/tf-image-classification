{
 "cells": [
  {
   "cell_type": "code",
   "execution_count": null,
   "id": "independent-conjunction",
   "metadata": {},
   "outputs": [],
   "source": [
    "import os\n",
    "import argparse\n",
    "import pandas as pd\n",
    "import tensorflow as tf\n",
    "from tensorflow.keras import layers\n",
    "from tensorflow.keras import models\n",
    "from tensorflow.keras import optimizers\n",
    "from tensorflow.keras.layers import GlobalAveragePooling2D\n",
    "from tensorflow.keras.preprocessing.image import ImageDataGenerator\n",
    "from tensorflow.keras.callbacks import CSVLogger\n"
   ]
  },
  {
   "cell_type": "code",
   "execution_count": null,
   "id": "dedicated-dairy",
   "metadata": {},
   "outputs": [],
   "source": [
    "def train(dataset_dir, input_width, input_height, epochs=10):\n",
    "    model = models.Sequential()\n",
    "\n",
    "    model.add(layers.Conv2D(64, (3, 3), activation='relu', padding='same', input_shape=(input_width, input_height, 3)))\n",
    "    model.add(layers.MaxPooling2D((2, 2)))\n",
    "    model.add(layers.Conv2D(128, (3, 3), activation='relu', padding='same'))\n",
    "    model.add(layers.MaxPooling2D((2, 2)))\n",
    "    model.add(layers.Conv2D(256, (3, 3), activation='relu', padding='same'))\n",
    "    model.add(layers.MaxPooling2D((2, 2)))\n",
    "    model.add(layers.Conv2D(512, (3, 3), activation='relu', padding='same'))\n",
    "    model.add(layers.MaxPooling2D((2, 2)))\n",
    "    model.add(GlobalAveragePooling2D())\n",
    "    model.add(layers.Dense(256, activation='relu'))\n",
    "    model.add(layers.Dense(1, activation='sigmoid'))\n",
    "\n",
    "    model.compile(loss='binary_crossentropy', optimizer=optimizers.RMSprop(lr=1e-4),\n",
    "                metrics=['acc'])\n",
    "\n",
    "    model.summary()\n",
    "\n",
    "    train_dir = '{dataset_dir}/train'.format(dataset_dir=dataset_dir)\n",
    "    validation_dir = '{dataset_dir}/validation'.format(dataset_dir=dataset_dir)\n",
    "\n",
    "    # 回転や拡大縮小によりデータ数を水増し\n",
    "    train_datagen = ImageDataGenerator(\n",
    "        rescale=1./255,\n",
    "        rotation_range=30,\n",
    "        width_shift_range=0.1,\n",
    "        height_shift_range=0.1,\n",
    "        shear_range=0.1,\n",
    "        zoom_range=0.1,\n",
    "        horizontal_flip=True,)\n",
    "\n",
    "    test_datagen = ImageDataGenerator(rescale=1./255)\n",
    "\n",
    "    # 学習用データ読込み\n",
    "    train_generator = train_datagen.flow_from_directory(\n",
    "            train_dir,\n",
    "            target_size=(input_width, input_height),\n",
    "            batch_size=30,\n",
    "            class_mode='binary')\n",
    "\n",
    "    # 訓練時検証用データ読込み\n",
    "    validation_generator = test_datagen.flow_from_directory(\n",
    "            validation_dir,\n",
    "            target_size=(input_width, input_height),\n",
    "            batch_size=30,\n",
    "            class_mode='binary')\n",
    "\n",
    "    history = model.fit_generator(\n",
    "        train_generator,\n",
    "        steps_per_epoch=93,\n",
    "        epochs=epochs,\n",
    "        validation_data=validation_generator,\n",
    "        validation_steps=13,\n",
    "        callbacks=[CSVLogger('training.log')])\n",
    "    \n",
    "    return model, history\n"
   ]
  },
  {
   "cell_type": "code",
   "execution_count": null,
   "id": "catholic-missouri",
   "metadata": {},
   "outputs": [],
   "source": [
    "base_dir = '.'\n",
    "dataset_dir = base_dir + '/dataset'\n",
    "model_dir = base_dir + '/models/hoo'\n",
    "model, history = train(dataset_dir, 480, 480, epochs=100)\n",
    "model.save(model_dir)\n",
    "hist_df = pd.DataFrame(history.history)\n",
    "hist_df.to_csv(model_dir + '/train_history.csv')\n"
   ]
  },
  {
   "cell_type": "code",
   "execution_count": null,
   "id": "constitutional-swimming",
   "metadata": {},
   "outputs": [],
   "source": []
  }
 ],
 "metadata": {
  "environment": {
   "name": "tf2-gpu.2-3.mnightly-2021-02-12-debian-10-test",
   "type": "gcloud",
   "uri": "gcr.io/deeplearning-platform-release/tf2-gpu.2-3:mnightly-2021-02-12-debian-10-test"
  },
  "kernelspec": {
   "display_name": "Python 3",
   "language": "python",
   "name": "python3"
  },
  "language_info": {
   "codemirror_mode": {
    "name": "ipython",
    "version": 3
   },
   "file_extension": ".py",
   "mimetype": "text/x-python",
   "name": "python",
   "nbconvert_exporter": "python",
   "pygments_lexer": "ipython3",
   "version": "3.7.9"
  }
 },
 "nbformat": 4,
 "nbformat_minor": 5
}
