{
 "cells": [
  {
   "cell_type": "code",
   "execution_count": null,
   "id": "accepting-lying",
   "metadata": {},
   "outputs": [],
   "source": [
    "import os\n",
    "import glob\n",
    "import argparse\n",
    "import numpy as np\n",
    "import tensorflow as tf\n",
    "from tensorflow.keras import models\n",
    "from tensorflow.keras.preprocessing.image import ImageDataGenerator, array_to_img, img_to_array, load_img\n"
   ]
  },
  {
   "cell_type": "code",
   "execution_count": null,
   "id": "working-orientation",
   "metadata": {},
   "outputs": [],
   "source": [
    "def test_total(dataset_dir, input_width, input_height, model):\n",
    "    test_datagen = ImageDataGenerator(rescale=1./255)\n",
    "    batch_size = 10\n",
    "    test_generator = test_datagen.flow_from_directory(\n",
    "        dataset_dir,\n",
    "        target_size=(input_width,input_height),\n",
    "        batch_size=batch_size,\n",
    "        class_mode='binary')\n",
    "    test_loss, test_acc = model.evaluate_generator(test_generator, steps=test_generator.samples // batch_size)\n",
    "    return test_loss, test_acc\n",
    "\n",
    "def test_each(dataset_dir, input_width, input_height, model):\n",
    "    result = []\n",
    "    for path in glob.glob('{}/**/*.jpeg'.format(dataset_dir)):\n",
    "        x = img_to_array(load_img(path, target_size=(input_width, input_height)))\n",
    "        score = model.predict(np.expand_dims(x[:,:,0:3]/255, axis=0), verbose=1)\n",
    "        result.append([path, score[0][0]])\n",
    "\n",
    "    return np.array(result)\n"
   ]
  },
  {
   "cell_type": "code",
   "execution_count": null,
   "id": "hundred-intervention",
   "metadata": {},
   "outputs": [],
   "source": [
    "model_dir = 'models/hoo' \n",
    "dataset_dir = 'dataset/test'\n",
    "output_file = 'out/hoo/result.csv'\n",
    "img_size = 480\n",
    "model = models.load_model(model_dir)\n",
    "#test_loss, test_acc = test_total(dataset_dir, img_size, img_size, model)\n",
    "#print('test loss: {}, accuracy: {}'.format(test_loss, test_acc))\n",
    "result = test_each(dataset_dir, img_size, img_size, model)\n",
    "np.savetxt(output_file, result, delimiter=',', fmt='%s')\n"
   ]
  },
  {
   "cell_type": "code",
   "execution_count": null,
   "id": "regulation-market",
   "metadata": {},
   "outputs": [],
   "source": []
  }
 ],
 "metadata": {
  "environment": {
   "name": "tf2-gpu.2-3.mnightly-2021-02-12-debian-10-test",
   "type": "gcloud",
   "uri": "gcr.io/deeplearning-platform-release/tf2-gpu.2-3:mnightly-2021-02-12-debian-10-test"
  },
  "kernelspec": {
   "display_name": "Python 3",
   "language": "python",
   "name": "python3"
  },
  "language_info": {
   "codemirror_mode": {
    "name": "ipython",
    "version": 3
   },
   "file_extension": ".py",
   "mimetype": "text/x-python",
   "name": "python",
   "nbconvert_exporter": "python",
   "pygments_lexer": "ipython3",
   "version": "3.7.9"
  }
 },
 "nbformat": 4,
 "nbformat_minor": 5
}
